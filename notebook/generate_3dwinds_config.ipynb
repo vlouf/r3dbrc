{
 "cells": [
  {
   "cell_type": "code",
   "execution_count": 2,
   "metadata": {
    "ExecuteTime": {
     "end_time": "2020-09-02T00:32:01.800393Z",
     "start_time": "2020-09-02T00:32:00.886260Z"
    }
   },
   "outputs": [],
   "source": [
    "#!/usr/bin/env python\n",
    "# -*- coding: utf-8 -*-\n",
    "import os\n",
    "import re\n",
    "import glob\n",
    "import argparse\n",
    "import datetime\n",
    "import zipfile\n",
    "\n",
    "import numpy as np\n",
    "import pandas as pd"
   ]
  },
  {
   "cell_type": "code",
   "execution_count": 18,
   "metadata": {
    "ExecuteTime": {
     "end_time": "2020-09-02T00:36:15.903655Z",
     "start_time": "2020-09-02T00:36:15.897030Z"
    }
   },
   "outputs": [],
   "source": [
    "def get_radar_archive_file(date, rid):\n",
    "    \"\"\"\n",
    "    Return the archive containing the radar file for a given radar ID and a\n",
    "    given date.\n",
    "    Parameters:\n",
    "    ===========\n",
    "    date: datetime\n",
    "        Date.\n",
    "    Returns:\n",
    "    ========\n",
    "    file: str\n",
    "        Radar archive if it exists at the given date.\n",
    "    \"\"\"\n",
    "    if type(rid) is not str:\n",
    "        rid = f\"{rid:02}\"\n",
    "        \n",
    "    datestr = date.strftime(\"%Y%m%d\")\n",
    "    file = f\"/g/data/rq0/admin/level_1b/grid_150km/{rid}/{date.year}/{rid}_{datestr}_level1b_grid_150km.zip\"\n",
    "    if not os.path.exists(file):\n",
    "        print(f\"{file} does not exist.\")\n",
    "        return None\n",
    "\n",
    "    return file"
   ]
  },
  {
   "cell_type": "code",
   "execution_count": 4,
   "metadata": {
    "ExecuteTime": {
     "end_time": "2020-09-02T00:32:01.833149Z",
     "start_time": "2020-09-02T00:32:01.825515Z"
    }
   },
   "outputs": [],
   "source": [
    "def extract_zip(inzip, date, path=\"/scratch/kl02/vhl548/unzipdir\"):\n",
    "    \"\"\"\n",
    "    Extract file in a daily archive zipfile for a specific datetime.\n",
    "    Parameters:\n",
    "    ===========\n",
    "    inzip: str\n",
    "        Input zipfile\n",
    "    date: pd.Timestamp\n",
    "        Which datetime we want to extract.\n",
    "    path: str\n",
    "        Path where we want to temporarly store the output file.\n",
    "    Returns:\n",
    "    ========\n",
    "    grfile: str\n",
    "        Output ground radar file.\n",
    "    \"\"\"\n",
    "\n",
    "    def get_zipfile_name(namelist, date):\n",
    "        datestr = [re.findall(\"[0-9]{8}_[0-9]{6}\", n)[0] for n in namelist]\n",
    "        timestamps = np.array([datetime.datetime.strptime(dt, \"%Y%m%d_%H%M%S\") for dt in datestr], dtype=\"datetime64\")\n",
    "        pos = np.argmin(np.abs(timestamps - date.to_numpy()))\n",
    "        delta = np.abs(pd.Timestamp(timestamps[pos]) - date).seconds\n",
    "        grfile = namelist[pos]\n",
    "        return grfile\n",
    "\n",
    "    with zipfile.ZipFile(inzip) as zid:\n",
    "        namelist = zid.namelist()\n",
    "        file = get_zipfile_name(namelist, date)\n",
    "        zid.extract(file, path=path)\n",
    "\n",
    "    grfile = os.path.join(path, file)\n",
    "\n",
    "    return grfile"
   ]
  },
  {
   "cell_type": "code",
   "execution_count": 5,
   "metadata": {
    "ExecuteTime": {
     "end_time": "2020-09-02T00:32:02.122517Z",
     "start_time": "2020-09-02T00:32:02.113921Z"
    }
   },
   "outputs": [],
   "source": [
    "def get_cpol_file(date):\n",
    "    datestr = date.strftime(\"%Y%m%d\")\n",
    "    path = f\"/scratch/kl02/vhl548/cpol_level_1b/v2020/gridded/grid_150km_1000m/{date.year}/{datestr}/*.nc\"\n",
    "    namelist = sorted(glob.glob(path))\n",
    "    if len(namelist) == 0:\n",
    "        raise FileNotFoundError(f\"No CPOL file found for this date {datestr}.\")\n",
    "\n",
    "    datelist = [re.findall(\"[0-9]{8}.[0-9]{6}\", n)[0] for n in namelist]\n",
    "    timestamps = np.array([datetime.datetime.strptime(dt, \"%Y%m%d.%H%M%S\") for dt in datelist], dtype=\"datetime64\")\n",
    "    pos = np.argmin(np.abs(timestamps - date.to_numpy()))\n",
    "    delta = np.abs(pd.Timestamp(timestamps[pos]) - date).seconds\n",
    "    grfile = namelist[pos]\n",
    "    \n",
    "    return grfile"
   ]
  },
  {
   "cell_type": "code",
   "execution_count": 27,
   "metadata": {
    "ExecuteTime": {
     "end_time": "2020-09-02T00:41:38.251426Z",
     "start_time": "2020-09-02T00:41:38.246223Z"
    }
   },
   "outputs": [],
   "source": [
    "input_date = datetime.datetime(2014, 12, 1, 6, 30)\n",
    "date = [pd.Timestamp(input_date)]\n",
    "date.append(date[0] + pd.Timedelta(\"10Min\"))"
   ]
  },
  {
   "cell_type": "code",
   "execution_count": 30,
   "metadata": {
    "ExecuteTime": {
     "end_time": "2020-09-02T00:43:00.895932Z",
     "start_time": "2020-09-02T00:43:00.723642Z"
    }
   },
   "outputs": [],
   "source": [
    "files = [get_cpol_file(d) for d in date]\n",
    "zips = [get_radar_archive_file(d, 64) for d in date]\n",
    "\n",
    "for z, d in zip(zips, date):\n",
    "    files.append(extract_zip(z, d))"
   ]
  },
  {
   "cell_type": "code",
   "execution_count": 32,
   "metadata": {
    "ExecuteTime": {
     "end_time": "2020-09-02T00:43:59.771213Z",
     "start_time": "2020-09-02T00:43:59.765060Z"
    }
   },
   "outputs": [],
   "source": [
    "with open(\"r3dbrc\", \"w+\") as fid:\n",
    "    fid.write(\"\\n\".join(files))"
   ]
  },
  {
   "cell_type": "code",
   "execution_count": 36,
   "metadata": {
    "ExecuteTime": {
     "end_time": "2020-09-02T00:48:47.509009Z",
     "start_time": "2020-09-02T00:48:47.501555Z"
    }
   },
   "outputs": [
    {
     "data": {
      "text/plain": [
       "Timestamp('2017-01-01 12:10:00')"
      ]
     },
     "execution_count": 36,
     "metadata": {},
     "output_type": "execute_result"
    }
   ],
   "source": [
    "pd.Timestamp(\"201701011210\")"
   ]
  }
 ],
 "metadata": {
  "kernelspec": {
   "display_name": "Python 3",
   "language": "python",
   "name": "python3"
  },
  "language_info": {
   "codemirror_mode": {
    "name": "ipython",
    "version": 3
   },
   "file_extension": ".py",
   "mimetype": "text/x-python",
   "name": "python",
   "nbconvert_exporter": "python",
   "pygments_lexer": "ipython3",
   "version": "3.8.5"
  },
  "varInspector": {
   "cols": {
    "lenName": 16,
    "lenType": 16,
    "lenVar": 40
   },
   "kernels_config": {
    "python": {
     "delete_cmd_postfix": "",
     "delete_cmd_prefix": "del ",
     "library": "var_list.py",
     "varRefreshCmd": "print(var_dic_list())"
    },
    "r": {
     "delete_cmd_postfix": ") ",
     "delete_cmd_prefix": "rm(",
     "library": "var_list.r",
     "varRefreshCmd": "cat(var_dic_list()) "
    }
   },
   "types_to_exclude": [
    "module",
    "function",
    "builtin_function_or_method",
    "instance",
    "_Feature"
   ],
   "window_display": false
  }
 },
 "nbformat": 4,
 "nbformat_minor": 4
}
